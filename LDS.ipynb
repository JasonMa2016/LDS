{
 "cells": [
  {
   "cell_type": "code",
   "execution_count": 2,
   "metadata": {},
   "outputs": [],
   "source": [
    "import numpy as np\n",
    "import torch\n",
    "import torch.nn.functional as F\n",
    "from torch.utils.data import TensorDataset, DataLoader\n",
    "\n",
    "from models.flow import FlowNet\n",
    "from models.lds import LDS\n",
    "\n",
    "import matplotlib\n",
    "import matplotlib.pyplot as plt\n",
    "import seaborn\n",
    "seaborn.set()"
   ]
  },
  {
   "cell_type": "markdown",
   "metadata": {},
   "source": [
    "# We first define a function to load the pre-generated datasets and visualize them. "
   ]
  },
  {
   "cell_type": "code",
   "execution_count": 16,
   "metadata": {},
   "outputs": [],
   "source": [
    "def load_trajectory_data(goal_ids=[0,1,2], samples=[1000,1000,1000],\n",
    "                         sub_sampling_rate=4, hist_lens=4,\n",
    "                         batch_size=64):\n",
    "    \n",
    "    dataset = np.concatenate(\n",
    "            [np.load(f'data/turn_id{goal_id}_1000.npy', allow_pickle=True)[:sample, ::sub_sampling_rate]\n",
    "             for goal_id, sample in zip(goal_ids, samples)])\n",
    "    \n",
    "    dataset = torch.tensor(dataset, dtype=torch.float32)\n",
    "    dataset = dataset.squeeze(2)\n",
    "    hist, fut = dataset[:, :hist_lens], dataset[:, hist_lens:]\n",
    "    \n",
    "    traj_dataset = TensorDataset(hist, fut)\n",
    "    traj_loader = DataLoader(traj_dataset, batch_size=batch_size, shuffle=True)\n",
    "    \n",
    "    return traj_dataset, traj_loader\n",
    "\n",
    "def visualize_trajectory(traj_dataset):\n",
    "    walls = [np.array([10.0, 14.0, 30.0, 14.0]),\n",
    "            np.array([38.0, 14.0, 60.0, 14.0]),\n",
    "            np.array([10.0, 22.0, 30.0, 22.0]),\n",
    "            np.array([38.0, 22.0, 60.0, 22.0]),\n",
    "            np.array([30.0,  0.0, 30.0, 14.0]),\n",
    "            np.array([30.0, 22.0, 30.0, 40.0]),\n",
    "            np.array([38.0,  0.0, 38.0, 14.0]),\n",
    "            np.array([38.0, 22.0, 38.0, 40.0])]\n",
    "\n",
    "    x = traj_dataset.tensors[0].reshape(-1, 2)\n",
    "    y = traj_dataset.tensors[1].reshape(-1, 2)\n",
    "\n",
    "    plt.scatter(x[:, 0], x[:, 1], alpha=0.1, color='red')\n",
    "    plt.scatter(y[:, 0], y[:, 1], alpha=0.1, color='red')"
   ]
  },
  {
   "cell_type": "markdown",
   "metadata": {},
   "source": [
    "# In the next cell, we visualize a balanced dataset in which there are equal numbers of trajectories going in all three directions."
   ]
  },
  {
   "cell_type": "code",
   "execution_count": 17,
   "metadata": {},
   "outputs": [
    {
     "data": {
      "image/png": "[encoded data removed]",
      "text/plain": [
       "<Figure size 432x288 with 1 Axes>"
      ]
     },
     "metadata": {},
     "output_type": "display_data"
    }
   ],
   "source": [
    "balanced_dataset, _ = load_trajectory_data()\n",
    "visualize_trajectory(balanced_dataset)"
   ]
  },
  {
   "cell_type": "markdown",
   "metadata": {},
   "source": [
    "# In the next cell, we define the training functions for the base Normalizing Flow model as well as our LDS sampling model. "
   ]
  },
  {
   "cell_type": "code",
   "execution_count": 34,
   "metadata": {},
   "outputs": [],
   "source": [
    "def train_flow(data_args, model_args, epochs=10, lr=0.01, device='cuda:1', print_epoch=False):\n",
    "    \n",
    "    model = FlowNet(**model_args)\n",
    "    model.to(device)\n",
    "    optimizer = torch.optim.Adam(model.parameters(), lr=lr)\n",
    "    \n",
    "    traj_dataset, traj_loader = load_trajectory_data(**data_args)\n",
    "    num_batches = len(traj_loader)\n",
    "    \n",
    "    for epoch in range(epochs):\n",
    "        loss = 0\n",
    "        log_prob_loss = 0\n",
    "        logabsdet_loss = 0\n",
    "        \n",
    "        for hist, fut in traj_loader:\n",
    "            optimizer.zero_grad()\n",
    "            hist = hist.to(device)\n",
    "            fut = fut.to(device)\n",
    "            log_prob, logabsdet = model(hist, fut)\n",
    "\n",
    "            # Compute NLL Loss\n",
    "            nll_loss = - torch.mean(log_prob - logabsdet, dim=0)\n",
    "            nll_loss.backward()\n",
    "\n",
    "            # Gradient Step\n",
    "            torch.nn.utils.clip_grad_norm_(model.parameters(), 1)\n",
    "            optimizer.step()\n",
    "\n",
    "            loss += nll_loss.item()\n",
    "            log_prob_loss += log_prob.mean().item()\n",
    "            logabsdet_loss += logabsdet.mean().item()\n",
    "        if print_epoch:\n",
    "            print(f'Epoch {epoch} NLL {(loss / num_batches):.2f} \\t log_prob {(log_prob_loss / num_batches):.2f} \\t logabsdet {(logabsdet_loss / num_batches):.2f}')\n",
    "        \n",
    "    return model, traj_loader\n",
    "\n",
    "def train_lds(model, traj_loader, epochs=400, lr=0.001, K=3, dmax=400, dlamb=10, device='cuda:1', print_epoch=False):\n",
    "    lds = LDS(K=K, future_lens=model.future_lens, hidden_size=model.hidden_size)\n",
    "    lds.to(device)\n",
    "\n",
    "    lds_optimizer = torch.optim.Adam(lds.parameters(), lr=0.001)\n",
    "\n",
    "    hist_mu = torch.mean(traj_loader.dataset.tensors[0], axis=0).to(device)\n",
    "    history_features = model.encode_history(hist_mu.unsqueeze(0).to(device))\n",
    "    \n",
    "    for epoch in range(epochs):\n",
    "        lds_optimizer.zero_grad()\n",
    "        x, _, _ = lds(history_features)\n",
    "        y_hat, logabsdet = model._decoder._forward(hist_mu.unsqueeze(0).repeat_interleave(lds.K, dim=0)[:, -1],\n",
    "                                             x.reshape(-1, model.future_lens , 2),\n",
    "                                             history_features.repeat_interleave(lds.K, dim=0))\n",
    "        # Likelihood \n",
    "        log_prob = model._decoder._base_dist.log_prob(x)\n",
    "        nll_loss = -torch.mean(log_prob - logabsdet, dim=0)\n",
    "\n",
    "        lds.y_hat = y_hat.detach()\n",
    "\n",
    "        # Diversity\n",
    "        y_hat = y_hat.reshape(-1, lds.K, model.future_lens, 2)\n",
    "        y_hat_goals = y_hat[:, :, -1, :]\n",
    "\n",
    "        diversity_loss = 0.\n",
    "        for y_hat_i_goals in y_hat_goals:\n",
    "            diversity_loss += (-torch.clamp(torch.min(F.pdist(y_hat_i_goals) ** 2), 0, dmax))\n",
    "\n",
    "        lds_loss = nll_loss + dlamb*diversity_loss / y_hat.shape[0]\n",
    "        lds_loss.backward(retain_graph=True)\n",
    "        lds_optimizer.step()\n",
    "        \n",
    "        if print_epoch:\n",
    "            if epoch % 10 == 0:\n",
    "                print(f'Epoch {epoch} \\t NLL {nll_loss.item():.2f} \\t Diversity {diversity_loss.item():.2f}')\n",
    "    return lds"
   ]
  },
  {
   "cell_type": "markdown",
   "metadata": {},
   "source": [
    "# Finally, we define a function to plot the trajectories generated by the base flow model as well as LDS-augmented flow model. "
   ]
  },
  {
   "cell_type": "code",
   "execution_count": 37,
   "metadata": {},
   "outputs": [],
   "source": [
    "def plot_trajectories(model, lds, traj_loader, n=1000):\n",
    "\n",
    "    walls = [np.array([10.0, 14.0, 30.0, 14.0]),\n",
    "             np.array([38.0, 14.0, 60.0, 14.0]),\n",
    "             np.array([10.0, 22.0, 30.0, 22.0]),\n",
    "             np.array([38.0, 22.0, 60.0, 22.0]),\n",
    "             np.array([30.0,  0.0, 30.0, 14.0]),\n",
    "             np.array([30.0, 22.0, 30.0, 40.0]),\n",
    "             np.array([38.0,  0.0, 38.0, 14.0]),\n",
    "             np.array([38.0, 22.0, 38.0, 40.0])]\n",
    "    \n",
    "    fig, ax = plt.subplots(nrows=1, ncols=2, figsize=(15, 5))\n",
    "    color = 'grey'\n",
    "    alpha = 0.3\n",
    "    \n",
    "    for i in range(2):\n",
    "        for wall in walls:\n",
    "            wall_x = [wall[0], wall[2]]\n",
    "            wall_y = [wall[1], wall[3]]\n",
    "            ax[i].plot(wall_x, wall_y, color='black')\n",
    "        rec = matplotlib.patches.Rectangle((10.,22.), 20., 18., color=color, alpha=alpha, fill=True)\n",
    "        ax[i].add_patch(rec)\n",
    "        rec = matplotlib.patches.Rectangle((10.,0.), 20., 14., color=color, alpha=alpha, fill=True)\n",
    "        ax[i].add_patch(rec)\n",
    "        rec = matplotlib.patches.Rectangle((38.,22.), 22., 18., color=color, alpha=alpha, fill=True)\n",
    "        ax[i].add_patch(rec)\n",
    "        rec = matplotlib.patches.Rectangle((38.,0.), 22., 14., color=color, alpha=alpha, fill=True)\n",
    "        ax[i].add_patch(rec)\n",
    "        \n",
    "        ax[i].set_xlim((10, 60))\n",
    "        ax[i].set_ylim((0, 40))\n",
    "\n",
    "    hist_mu = torch.mean(traj_loader.dataset.tensors[0], axis=0)\n",
    "    \n",
    "    with torch.no_grad():\n",
    "        sampled_trajs = model.predict_n(hist_mu.repeat(1, 1, 1).to('cuda:1'), n)\n",
    "        sampled_trajs = sampled_trajs.cpu().detach()\n",
    "            \n",
    "    sampled_trajs = sampled_trajs.reshape(-1, 2)\n",
    "    ax[0].scatter(sampled_trajs[:, 0], sampled_trajs[:, 1], alpha=0.3, color='red')\n",
    "    ax[0].set_title('1000 NF Predictions', fontsize=20)\n",
    "\n",
    "    lds_y_hat = lds.y_hat.reshape(-1,2).cpu()\n",
    "    ax[1].scatter(lds_y_hat[:,0], lds_y_hat[:,1], alpha=0.3, color='blue')\n",
    "    ax[1].set_title('3 LDS Predictions', fontsize=20)\n",
    "    return fig "
   ]
  },
  {
   "cell_type": "markdown",
   "metadata": {},
   "source": [
    "# Now, we create an imbalanced dataset and train flow and DSF models. Then, we visualize their trajectories. As shown, using just 3 samples, LDS is able to cover all modes presented in the imbalanced dataset, while the NF model is only able to generate data drawn from the major mode."
   ]
  },
  {
   "cell_type": "code",
   "execution_count": 38,
   "metadata": {},
   "outputs": [
    {
     "name": "stderr",
     "output_type": "stream",
     "text": [
      "/home/jason/anaconda3/lib/python3.8/site-packages/torch/distributions/distribution.py:134: UserWarning: sample_n will be deprecated. Use .sample((n,)) instead\n",
      "  warnings.warn('sample_n will be deprecated. Use .sample((n,)) instead', UserWarning)\n"
     ]
    },
    {
     "data": {
      "image/png": "[encoded data removed]",
      "text/plain": [
       "<Figure size 1080x360 with 2 Axes>"
      ]
     },
     "metadata": {},
     "output_type": "display_data"
    }
   ],
   "source": [
    "data_args = {\n",
    "    'hist_lens': 4,\n",
    "    'batch_size': 64,\n",
    "    'samples': [100, 100, 1000]\n",
    "}\n",
    "\n",
    "model_args = {\n",
    "    'future_lens': 16,\n",
    "    'hidden_size': 32,\n",
    "    'output_sizes': [32, 4]\n",
    "}\n",
    "\n",
    "train_args = {\n",
    "    'epochs': 10,\n",
    "    'lr': 0.01,\n",
    "    'device': 'cuda:1'\n",
    "}\n",
    "\n",
    "lds_args = {\n",
    "    'epochs': 400,\n",
    "    'lr': 0.001,\n",
    "    'dlamb': 0.8, \n",
    "    'dmax': 400\n",
    "}\n",
    "\n",
    "model, traj_loader = train_flow(data_args, model_args, **train_args)\n",
    "lds = train_lds(model, traj_loader, **lds_args)\n",
    "fig = plot_trajectories(model, lds, traj_loader)\n"
   ]
  },
  {
   "cell_type": "code",
   "execution_count": null,
   "metadata": {},
   "outputs": [],
   "source": []
  }
 ],
 "metadata": {
  "interpreter": {
   "hash": "31f2aee4e71d21fbe5cf8b01ff0e069b9275f58929596ceb00d14d90e3e16cd6"
  },
  "kernelspec": {
   "display_name": "Python 3.6.9 64-bit",
   "name": "python3"
  },
  "language_info": {
   "codemirror_mode": {
    "name": "ipython",
    "version": 3
   },
   "file_extension": ".py",
   "mimetype": "text/x-python",
   "name": "python",
   "nbconvert_exporter": "python",
   "pygments_lexer": "ipython3",
   "version": "3.8.3"
  },
  "orig_nbformat": 4
 },
 "nbformat": 4,
 "nbformat_minor": 2
}